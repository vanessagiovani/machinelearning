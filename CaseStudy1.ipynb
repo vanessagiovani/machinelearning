{
  "nbformat": 4,
  "nbformat_minor": 0,
  "metadata": {
    "colab": {
      "name": "Untitled0.ipynb",
      "provenance": [],
      "authorship_tag": "ABX9TyMoxN9nC+p/c6l4Tl4HrjqB",
      "include_colab_link": true
    },
    "kernelspec": {
      "name": "python3",
      "display_name": "Python 3"
    }
  },
  "cells": [
    {
      "cell_type": "markdown",
      "metadata": {
        "id": "view-in-github",
        "colab_type": "text"
      },
      "source": [
        "<a href=\"https://colab.research.google.com/github/vanessagiovani/machinelearning/blob/main/CaseStudy1.ipynb\" target=\"_parent\"><img src=\"https://colab.research.google.com/assets/colab-badge.svg\" alt=\"Open In Colab\"/></a>"
      ]
    },
    {
      "cell_type": "code",
      "metadata": {
        "colab": {
          "base_uri": "https://localhost:8080/"
        },
        "id": "Eth0Zu-Pdar_",
        "outputId": "65935681-badb-4895-963c-3f8aa796d291"
      },
      "source": [
        "import pandas as pd\r\n",
        "data = pd.read_csv(\"https://raw.githubusercontent.com/vanessagiovani/machinelearning/main/listings.csv\")\r\n",
        "print(data)"
      ],
      "execution_count": 12,
      "outputs": [
        {
          "output_type": "stream",
          "text": [
            "            id  ... availability_365\n",
            "0        49091  ...              365\n",
            "1        50646  ...              365\n",
            "2        56334  ...              365\n",
            "3        71609  ...              353\n",
            "4        71896  ...              355\n",
            "...        ...  ...              ...\n",
            "7902  38105126  ...               61\n",
            "7903  38108273  ...              365\n",
            "7904  38109336  ...              173\n",
            "7905  38110493  ...               30\n",
            "7906  38112762  ...              365\n",
            "\n",
            "[7907 rows x 16 columns]\n"
          ],
          "name": "stdout"
        }
      ]
    },
    {
      "cell_type": "code",
      "metadata": {
        "colab": {
          "base_uri": "https://localhost:8080/"
        },
        "id": "6o79OErjzu5t",
        "outputId": "f62868e1-4e74-4f45-b110-bbfb1162f43c"
      },
      "source": [
        "minValue = data.min()\r\n",
        "print(\"- Minimum -\\n\")\r\n",
        "print(\"All data: \\n\", minValue)\r\n",
        "print(\"Price: \", minValue[\"price\"])\r\n",
        "\r\n",
        "\r\n",
        "maxValue = data.max()\r\n",
        "print(\"\\n- Maximum -\\n\")\r\n",
        "print(\"All data: \\n\", maxValue)\r\n",
        "print(\"Price: \", maxValue[\"price\"])"
      ],
      "execution_count": 20,
      "outputs": [
        {
          "output_type": "stream",
          "text": [
            "- Minimum -\n",
            "\n",
            "All data: \n",
            " id                                                   49091\n",
            "host_id                                              23666\n",
            "host_name                         (Email hidden by Airbnb)\n",
            "neighbourhood_group                         Central Region\n",
            "neighbourhood                                   Ang Mo Kio\n",
            "latitude                                           1.24387\n",
            "longitude                                          103.647\n",
            "room_type                                  Entire home/apt\n",
            "price                                                    0\n",
            "minimum_nights                                           1\n",
            "number_of_reviews                                        0\n",
            "reviews_per_month                                     0.01\n",
            "calculated_host_listings_count                           1\n",
            "availability_365                                         0\n",
            "dtype: object\n",
            "Price:  0\n",
            "\n",
            "- Maximum -\n",
            "\n",
            "All data: \n",
            " id                                   38112762\n",
            "host_id                             288567551\n",
            "host_name                                  ｼﾝ\n",
            "neighbourhood_group               West Region\n",
            "neighbourhood                          Yishun\n",
            "latitude                              1.45459\n",
            "longitude                             103.973\n",
            "room_type                         Shared room\n",
            "price                                   10000\n",
            "minimum_nights                           1000\n",
            "number_of_reviews                         323\n",
            "reviews_per_month                          13\n",
            "calculated_host_listings_count            274\n",
            "availability_365                          365\n",
            "dtype: object\n",
            "Price:  10000\n"
          ],
          "name": "stdout"
        }
      ]
    },
    {
      "cell_type": "code",
      "metadata": {
        "id": "2HAQqsA-xhj1"
      },
      "source": [
        "!wget https://raw.githubusercontent.com/vanessagiovani/machinelearning/main/iris.csv"
      ],
      "execution_count": null,
      "outputs": []
    },
    {
      "cell_type": "markdown",
      "metadata": {
        "id": "4LNaOLxPg5dF"
      },
      "source": [
        ""
      ]
    },
    {
      "cell_type": "markdown",
      "metadata": {
        "id": "SrDb9tz3542l"
      },
      "source": [
        "eliminate null value"
      ]
    },
    {
      "cell_type": "code",
      "metadata": {
        "colab": {
          "base_uri": "https://localhost:8080/"
        },
        "id": "zloqT-3b3dBC",
        "outputId": "336bddfd-7309-435b-848a-3c7897bb0721"
      },
      "source": [
        "import pandas as pd\r\n",
        "\r\n",
        "dataListings = pd.read_csv(\"https://raw.githubusercontent.com/vanessagiovani/machinelearning/main/listings.csv\")\r\n",
        "print(dataListings.head())\r\n",
        "\r\n",
        "print(dataListings.isna().values.any())\r\n",
        "newDataListingsDrop = dataListings.dropna()\r\n",
        "newDataListingsFill = dataListings.fillna(0)\r\n",
        "print(\"Original Length:\", len(dataListings))\r\n",
        "print(\"Dropped Length:\", len(newDataListingsDrop))\r\n",
        "print(\"Replaced Length:\", len(newDataListingsFill))"
      ],
      "execution_count": 25,
      "outputs": [
        {
          "output_type": "stream",
          "text": [
            "      id  ... availability_365\n",
            "0  49091  ...              365\n",
            "1  50646  ...              365\n",
            "2  56334  ...              365\n",
            "3  71609  ...              353\n",
            "4  71896  ...              355\n",
            "\n",
            "[5 rows x 16 columns]\n",
            "True\n",
            "Original Length: 7907\n",
            "Dropped Length: 5148\n",
            "Replaced Length: 7907\n"
          ],
          "name": "stdout"
        }
      ]
    },
    {
      "cell_type": "markdown",
      "metadata": {
        "id": "QsjdujkV5-We"
      },
      "source": [
        "min and max value"
      ]
    },
    {
      "cell_type": "code",
      "metadata": {
        "colab": {
          "base_uri": "https://localhost:8080/"
        },
        "id": "1AhLEaiF3ryd",
        "outputId": "4787ff17-c386-433c-c4c6-eb23eca2577b"
      },
      "source": [
        "for i in newDataListingsFill:\r\n",
        "  if newDataListingsFill[i].dtypes != object :\r\n",
        "    print(\"Max value of \", i, \"in newDataListingsFill is \", newDataListingsFill[i].max())\r\n",
        "    print(\"Min value of \", i, \"in newDataListingsFill is \", newDataListingsFill[i].min())\r\n",
        "\r\n",
        "for i in newDataListingsFill2:\r\n",
        "  if newDataListingsFill2[i].dtypes != object :\r\n",
        "    print(\"Max value of \", i, \"in newDataListingsFill2 is \", newDataListingsFill2[i].max())\r\n",
        "    print(\"Min value of \", i, \"in newDataListingsFill2 is \", newDataListingsFill2[i].min())\r\n",
        "\r\n",
        "for i in newDataListingsDrop:\r\n",
        "  if newDataListingsDrop[i].dtypes != object :\r\n",
        "    print(\"Max value of \", i, \"in newDataListingsDrop is \", newDataListingsDrop[i].max())\r\n",
        "    print(\"Min value of \", i, \"in newDataListingsDrop is \", newDataListingsDrop[i].min())\r\n"
      ],
      "execution_count": 28,
      "outputs": [
        {
          "output_type": "stream",
          "text": [
            "Max value of  id in newDataListingsFill is  38112762\n",
            "Min value of  id in newDataListingsFill is  49091\n",
            "Max value of  host_id in newDataListingsFill is  288567551\n",
            "Min value of  host_id in newDataListingsFill is  23666\n",
            "Max value of  latitude in newDataListingsFill is  1.45459\n",
            "Min value of  latitude in newDataListingsFill is  1.24387\n",
            "Max value of  longitude in newDataListingsFill is  103.97341999999999\n",
            "Min value of  longitude in newDataListingsFill is  103.64656\n",
            "Max value of  price in newDataListingsFill is  10000\n",
            "Min value of  price in newDataListingsFill is  0\n",
            "Max value of  minimum_nights in newDataListingsFill is  1000\n",
            "Min value of  minimum_nights in newDataListingsFill is  1\n",
            "Max value of  number_of_reviews in newDataListingsFill is  323\n",
            "Min value of  number_of_reviews in newDataListingsFill is  0\n",
            "Max value of  reviews_per_month in newDataListingsFill is  13.0\n",
            "Min value of  reviews_per_month in newDataListingsFill is  0.0\n",
            "Max value of  calculated_host_listings_count in newDataListingsFill is  274\n",
            "Min value of  calculated_host_listings_count in newDataListingsFill is  1\n",
            "Max value of  availability_365 in newDataListingsFill is  365\n",
            "Min value of  availability_365 in newDataListingsFill is  0\n",
            "Max value of  id in newDataListingsFill2 is  38112762\n",
            "Min value of  id in newDataListingsFill2 is  49091\n",
            "Max value of  host_id in newDataListingsFill2 is  288567551\n",
            "Min value of  host_id in newDataListingsFill2 is  23666\n",
            "Max value of  latitude in newDataListingsFill2 is  1.45459\n",
            "Min value of  latitude in newDataListingsFill2 is  1.24387\n",
            "Max value of  longitude in newDataListingsFill2 is  103.97341999999999\n",
            "Min value of  longitude in newDataListingsFill2 is  103.64656\n",
            "Max value of  price in newDataListingsFill2 is  10000\n",
            "Min value of  price in newDataListingsFill2 is  0\n",
            "Max value of  minimum_nights in newDataListingsFill2 is  1000\n",
            "Min value of  minimum_nights in newDataListingsFill2 is  1\n",
            "Max value of  number_of_reviews in newDataListingsFill2 is  323\n",
            "Min value of  number_of_reviews in newDataListingsFill2 is  0\n",
            "Max value of  reviews_per_month in newDataListingsFill2 is  13.0\n",
            "Min value of  reviews_per_month in newDataListingsFill2 is  0.01\n",
            "Max value of  calculated_host_listings_count in newDataListingsFill2 is  274\n",
            "Min value of  calculated_host_listings_count in newDataListingsFill2 is  1\n",
            "Max value of  availability_365 in newDataListingsFill2 is  365\n",
            "Min value of  availability_365 in newDataListingsFill2 is  0\n",
            "Max value of  id in newDataListingsDrop is  37852422\n",
            "Min value of  id in newDataListingsDrop is  49091\n",
            "Max value of  host_id in newDataListingsDrop is  282332472\n",
            "Min value of  host_id in newDataListingsDrop is  23666\n",
            "Max value of  latitude in newDataListingsDrop is  1.45203\n",
            "Min value of  latitude in newDataListingsDrop is  1.24391\n",
            "Max value of  longitude in newDataListingsDrop is  103.97341999999999\n",
            "Min value of  longitude in newDataListingsDrop is  103.64656\n",
            "Max value of  price in newDataListingsDrop is  10000\n",
            "Min value of  price in newDataListingsDrop is  0\n",
            "Max value of  minimum_nights in newDataListingsDrop is  700\n",
            "Min value of  minimum_nights in newDataListingsDrop is  1\n",
            "Max value of  number_of_reviews in newDataListingsDrop is  323\n",
            "Min value of  number_of_reviews in newDataListingsDrop is  1\n",
            "Max value of  reviews_per_month in newDataListingsDrop is  13.0\n",
            "Min value of  reviews_per_month in newDataListingsDrop is  0.01\n",
            "Max value of  calculated_host_listings_count in newDataListingsDrop is  274\n",
            "Min value of  calculated_host_listings_count in newDataListingsDrop is  1\n",
            "Max value of  availability_365 in newDataListingsDrop is  365\n",
            "Min value of  availability_365 in newDataListingsDrop is  0\n"
          ],
          "name": "stdout"
        }
      ]
    },
    {
      "cell_type": "markdown",
      "metadata": {
        "id": "zg8acDKd5ZMw"
      },
      "source": [
        "replace null value to max value"
      ]
    },
    {
      "cell_type": "code",
      "metadata": {
        "colab": {
          "base_uri": "https://localhost:8080/"
        },
        "id": "Abm89Zb34687",
        "outputId": "f65fa96a-9d53-420d-fcbe-cb6fa67d94d9"
      },
      "source": [
        "for i in dataListings:\r\n",
        "  print(i, dataListings[i].isna().values.any())\r\n",
        "\r\n",
        "newDataListingsFill2 = dataListings\r\n",
        "for i in dataListings:\r\n",
        "  if dataListings[i].dtypes == object :\r\n",
        "    newDataListingsFill2[i] = dataListings[i].fillna(\"Not Available\")\r\n",
        "  else :\r\n",
        "    max = dataListings[i].max()\r\n",
        "    newDataListingsFill2[i] = dataListings[i].fillna(max)\r\n",
        "\r\n",
        "print(newDataListingsFill2)"
      ],
      "execution_count": 30,
      "outputs": [
        {
          "output_type": "stream",
          "text": [
            "id False\n",
            "name False\n",
            "host_id False\n",
            "host_name False\n",
            "neighbourhood_group False\n",
            "neighbourhood False\n",
            "latitude False\n",
            "longitude False\n",
            "room_type False\n",
            "price False\n",
            "minimum_nights False\n",
            "number_of_reviews False\n",
            "last_review False\n",
            "reviews_per_month False\n",
            "calculated_host_listings_count False\n",
            "availability_365 False\n",
            "            id  ... availability_365\n",
            "0        49091  ...              365\n",
            "1        50646  ...              365\n",
            "2        56334  ...              365\n",
            "3        71609  ...              353\n",
            "4        71896  ...              355\n",
            "...        ...  ...              ...\n",
            "7902  38105126  ...               61\n",
            "7903  38108273  ...              365\n",
            "7904  38109336  ...              173\n",
            "7905  38110493  ...               30\n",
            "7906  38112762  ...              365\n",
            "\n",
            "[7907 rows x 16 columns]\n"
          ],
          "name": "stdout"
        }
      ]
    }
  ]
}