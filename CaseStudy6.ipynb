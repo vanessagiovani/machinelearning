{
  "nbformat": 4,
  "nbformat_minor": 0,
  "metadata": {
    "colab": {
      "name": "CaseStudy6.ipynb",
      "provenance": []
    },
    "kernelspec": {
      "name": "python3",
      "display_name": "Python 3"
    },
    "language_info": {
      "name": "python"
    }
  },
  "cells": [
    {
      "cell_type": "code",
      "metadata": {
        "id": "l6SfPKWq6cW5"
      },
      "source": [
        "import pandas as pd\n",
        "import seaborn as sb\n",
        "import matplotlib.pyplot as plt\n",
        "from sklearn import preprocessing\n",
        "from sklearn.model_selection import train_test_split\n",
        "from sklearn.linear_model import LinearRegression\n",
        "from sklearn.metrics import r2_score, mean_squared_error"
      ],
      "execution_count": 3,
      "outputs": []
    },
    {
      "cell_type": "code",
      "metadata": {
        "id": "E63fAMWR5KLF"
      },
      "source": [
        "!wget https://raw.githubusercontent.com/vanessagiovani/COMP6577/master/insurance.csv"
      ],
      "execution_count": null,
      "outputs": []
    },
    {
      "cell_type": "markdown",
      "metadata": {
        "id": "Of0S2t9EXCFx"
      },
      "source": [
        "1."
      ]
    },
    {
      "cell_type": "code",
      "metadata": {
        "colab": {
          "base_uri": "https://localhost:8080/"
        },
        "id": "iezll_E16HcR",
        "outputId": "e7694cd3-e276-4d38-ce95-6133997ad9e3"
      },
      "source": [
        "data = pd.read_csv(\"insurance.csv\")\n",
        "print(data)"
      ],
      "execution_count": 9,
      "outputs": [
        {
          "output_type": "stream",
          "text": [
            "      age  sex     bmi  children  smoker  region      charges\n",
            "0      19    1  27.900         0       1       0  16884.92400\n",
            "1      18    2  33.770         1       0       2   1725.55230\n",
            "2      28    2  33.000         3       0       2   4449.46200\n",
            "3      33    2  22.705         0       0       1  21984.47061\n",
            "4      32    2  28.880         0       0       1   3866.85520\n",
            "...   ...  ...     ...       ...     ...     ...          ...\n",
            "1333   50    2  30.970         3       0       1  10600.54830\n",
            "1334   18    1  31.920         0       0       3   2205.98080\n",
            "1335   18    1  36.850         0       0       2   1629.83350\n",
            "1336   21    1  25.800         0       0       0   2007.94500\n",
            "1337   61    1  29.070         0       1       1  29141.36030\n",
            "\n",
            "[1338 rows x 7 columns]\n"
          ],
          "name": "stdout"
        }
      ]
    },
    {
      "cell_type": "markdown",
      "metadata": {
        "id": "97Ui13GjWQUN"
      },
      "source": [
        "Univariate Linear Regression"
      ]
    },
    {
      "cell_type": "code",
      "metadata": {
        "id": "McyUVxdM7A2E"
      },
      "source": [
        "X = data[[\"smoker\"]]\n",
        "Y = data[\"charges\"]\n",
        "XTrain, XTest, YTrain, YTest = train_test_split(X,Y, test_size = 0.2)"
      ],
      "execution_count": 35,
      "outputs": []
    },
    {
      "cell_type": "code",
      "metadata": {
        "colab": {
          "base_uri": "https://localhost:8080/"
        },
        "id": "us4l4dIJWP46",
        "outputId": "c8e30fe9-1d4d-4484-9152-69c6720c7db7"
      },
      "source": [
        "LRM = LinearRegression().fit(XTrain, YTrain)\n",
        "prediction = LRM.predict(XTest)\n",
        "print(\"theta 0  : \", LRM.intercept_)\n",
        "print(\"theta 1  : \", LRM.coef_)\n",
        "print(\"R2 Score : \", r2_score(YTest, prediction))\n",
        "print(\"Error    : \", mean_squared_error(YTest, prediction))"
      ],
      "execution_count": 36,
      "outputs": [
        {
          "output_type": "stream",
          "text": [
            "theta 0  :  8425.39437700938\n",
            "theta 1  :  [23766.93850806]\n",
            "R2 Score :  0.6410811859339869\n",
            "Error    :  49706062.32829257\n"
          ],
          "name": "stdout"
        }
      ]
    },
    {
      "cell_type": "markdown",
      "metadata": {
        "id": "tEt8X9m_Wdaf"
      },
      "source": [
        "Multivariate Linear Regression"
      ]
    },
    {
      "cell_type": "code",
      "metadata": {
        "id": "mbwOnXBoWf2x"
      },
      "source": [
        "X = data[[\"age\", \"children\", \"smoker\"]]\n",
        "Y = data[\"charges\"]\n",
        "XTrain, XTest, YTrain, YTest = train_test_split(X,Y, test_size = 0.2)"
      ],
      "execution_count": 37,
      "outputs": []
    },
    {
      "cell_type": "code",
      "metadata": {
        "colab": {
          "base_uri": "https://localhost:8080/"
        },
        "id": "1WKfhjSeWpCh",
        "outputId": "15e4e03a-f9a9-4efa-a2ff-ca342cc4eead"
      },
      "source": [
        "LRM = LinearRegression().fit(XTrain, YTrain)\n",
        "prediction = LRM.predict(XTest)\n",
        "print(\"theta 0    : \", LRM.intercept_)\n",
        "print(\"theta 1-3  : \", LRM.coef_)\n",
        "print(\"R2 Score   : \", r2_score(YTest, prediction))\n",
        "print(\"Error      : \", mean_squared_error(YTest, prediction))"
      ],
      "execution_count": 38,
      "outputs": [
        {
          "output_type": "stream",
          "text": [
            "theta 0    :  -2551.9395675758606\n",
            "theta 1-3  :  [  268.40175666   363.33852694 23923.74561345]\n",
            "R2 Score   :  0.7495731761314083\n",
            "Error      :  40098919.890645966\n"
          ],
          "name": "stdout"
        }
      ]
    },
    {
      "cell_type": "markdown",
      "metadata": {
        "id": "YAQL1h_NXRhd"
      },
      "source": [
        "Multivariate Linear Regression (normalization)"
      ]
    },
    {
      "cell_type": "code",
      "metadata": {
        "id": "UnPIVBAKXF4T"
      },
      "source": [
        "import numpy as np\n",
        "import matplotlib.pyplot as plt\n",
        "\n",
        "def costFunction(X, Y, theta):\n",
        "    h = np.dot(X, theta) - Y\n",
        "    J = np.dot(h, h) / (2 * X.shape[0])\n",
        "    return J\n",
        "    \n",
        "def gradientDescent(X, Y, theta, alpha, num_iters):\n",
        "    J_history = np.zeros(num_iters)\n",
        "    for i in range(num_iters):\n",
        "        theta = (theta - (alpha / X.shape[0]) * np.dot(X.T, (np.dot(X, theta) - Y)))   \n",
        "        J_history[i] = costFunction(X, Y, theta)\n",
        "    return theta, J_history\n",
        "\n",
        "def plotCost():\n",
        "    plt.figure()\n",
        "    plt.plot(np.arange(num_iters), J_history)\n",
        "    plt.xlabel('Iterations')\n",
        "    plt.ylabel('Cost')\n",
        "    plt.show()\n",
        "\n",
        "def featureNormalisation(X):\n",
        "    mu = np.mean(X, axis=0)\n",
        "    sigma = np.std(X)\n",
        "    XNorm = (X - mu) / sigma\n",
        "    return XNorm, mu, sigma\n",
        "\n"
      ],
      "execution_count": 39,
      "outputs": []
    },
    {
      "cell_type": "markdown",
      "metadata": {
        "id": "kBqAU1seZMq3"
      },
      "source": [
        "Charges for univariate"
      ]
    },
    {
      "cell_type": "code",
      "metadata": {
        "colab": {
          "base_uri": "https://localhost:8080/"
        },
        "id": "Y4pl0_pdZCpQ",
        "outputId": "b5db6d06-fc8b-45a8-aedf-c21927f244af"
      },
      "source": [
        "nonSmoker = theta[0] + 0 * theta[1]\n",
        "smoker = theta[0] + 1 * theta[1]\n",
        "\n",
        "print(\"Smoker fee     : %.2f\" % smoker)\n",
        "print(\"Non Smoker fee : %.2f\" % nonSmoker)"
      ],
      "execution_count": 40,
      "outputs": [
        {
          "output_type": "stream",
          "text": [
            "Smoker fee     : 17011.87\n",
            "Non Smoker fee : 13183.23\n"
          ],
          "name": "stdout"
        }
      ]
    },
    {
      "cell_type": "code",
      "metadata": {
        "colab": {
          "base_uri": "https://localhost:8080/",
          "height": 307
        },
        "id": "ZS97rLUxXhqU",
        "outputId": "a995abe7-10ba-4e92-d1c9-3cf8469b86ac"
      },
      "source": [
        "X = data[[\"age\", \"children\", \"smoker\"]]\n",
        "Y = data[\"charges\"]\n",
        "XTrain, mu, sigma = featureNormalisation(X)\n",
        "XTrain = np.hstack((np.ones((XTrain.shape[0], 1)), XTrain))\n",
        "theta = np.zeros(4)\n",
        "alpha = 0.01\n",
        "num_iters = 500\n",
        "theta, J_history = gradientDescent(XTrain, Y, theta, alpha, num_iters)\n",
        "print(theta)\n",
        "plotCost()"
      ],
      "execution_count": 41,
      "outputs": [
        {
          "output_type": "stream",
          "text": [
            "[13183.22918068  3801.96731078   591.35041944  9554.60479202]\n"
          ],
          "name": "stdout"
        },
        {
          "output_type": "display_data",
          "data": {
            "image/png": "[encoded data removed]",
            "text/plain": [
              "<Figure size 432x288 with 1 Axes>"
            ]
          },
          "metadata": {
            "tags": [],
            "needs_background": "light"
          }
        }
      ]
    },
    {
      "cell_type": "markdown",
      "metadata": {
        "id": "hxw904BtZQX-"
      },
      "source": [
        "Charges for multivariate"
      ]
    },
    {
      "cell_type": "code",
      "metadata": {
        "colab": {
          "base_uri": "https://localhost:8080/"
        },
        "id": "7B2Jbt8IYbjs",
        "outputId": "a7f3d33c-a273-4e63-e954-92551a595e35"
      },
      "source": [
        "age = [16, 20, 40, 50]\n",
        "children = [1, 2, 0, 3]\n",
        "smoker = [1, 1, 0, 1]\n",
        "charges = np.zeros(4)\n",
        "print(len(age))\n",
        "for i in range(len(age)):\n",
        "    age[0] = (age[0] - mu[0]) / sigma[0]\n",
        "    children[i] = (children[i] - mu[1]) / sigma[1]\n",
        "    smoker[i] = (smoker[i] - mu[2]) / sigma[2]\n",
        "    charges[i] = theta[0] + theta[1] * age[i] + theta[2] * children[i] + theta[3] * smoker[i]\n",
        "    print(\"Charges person \", i + 1 , \"is %.2f\" % charges[i])"
      ],
      "execution_count": 44,
      "outputs": [
        {
          "output_type": "stream",
          "text": [
            "4\n",
            "Charges person  1 is 25682.58\n",
            "Charges person  2 is 108494.90\n",
            "Charges person  3 is 159876.00\n",
            "Charges person  4 is 223044.65\n"
          ],
          "name": "stdout"
        }
      ]
    },
    {
      "cell_type": "markdown",
      "metadata": {
        "id": "RtXYq0NFZkwR"
      },
      "source": [
        "The difference between univariate and multivariate models are quite shown in the result. While univariate calculates using single X, multivariate can calculates more than one variable. For univariate, tere's only 2 result: smoker and non smoker fee where x as the smoker and y as the charges. For multivariate, it's kind of like a case where the result calculate charges from their age, children(s), and are a smoker or not. The more value from the three x variables, then the charges will be more larger."
      ]
    }
  ]
}