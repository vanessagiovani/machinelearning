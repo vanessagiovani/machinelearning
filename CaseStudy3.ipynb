{
  "nbformat": 4,
  "nbformat_minor": 0,
  "metadata": {
    "colab": {
      "name": "CaseStudy3.ipynb",
      "provenance": [],
      "authorship_tag": "ABX9TyNHtQZsZtgIaLyyq7usUsA2",
      "include_colab_link": true
    },
    "kernelspec": {
      "name": "python3",
      "display_name": "Python 3"
    }
  },
  "cells": [
    {
      "cell_type": "markdown",
      "metadata": {
        "id": "view-in-github",
        "colab_type": "text"
      },
      "source": [
        "<a href=\"https://colab.research.google.com/github/vanessagiovani/machinelearning/blob/main/CaseStudy3.ipynb\" target=\"_parent\"><img src=\"https://colab.research.google.com/assets/colab-badge.svg\" alt=\"Open In Colab\"/></a>"
      ]
    },
    {
      "cell_type": "markdown",
      "metadata": {
        "id": "tZ7hXj8W-n2t"
      },
      "source": [
        "1. Discrete random variable: variable whose value is obtained by counting. (int)\r\n",
        "Ex: price, number_of_reviews\r\n",
        "\r\n",
        "  Continuous random variable: variable whose value is obtained by measuring. (int or float)\r\n",
        "Ex: longitude, reviews_per_month"
      ]
    },
    {
      "cell_type": "markdown",
      "metadata": {
        "id": "J_RDXe22kbaX"
      },
      "source": [
        "2."
      ]
    },
    {
      "cell_type": "code",
      "metadata": {
        "id": "MnoePb_gBkfM"
      },
      "source": [
        "!wget https://raw.githubusercontent.com/vanessagiovani/machinelearning/main/listings.csv"
      ],
      "execution_count": null,
      "outputs": []
    },
    {
      "cell_type": "code",
      "metadata": {
        "colab": {
          "base_uri": "https://localhost:8080/"
        },
        "id": "h7jjrDHY-kiF",
        "outputId": "0024f3f3-6833-402a-9626-7a55beab3af2"
      },
      "source": [
        "import pandas as pd\r\n",
        "import seaborn as sb\r\n",
        "import matplotlib.pyplot as plt\r\n",
        "import numpy as np\r\n",
        "\r\n",
        "data = pd.read_csv('listings.csv')\r\n",
        "print(data.head)\r\n",
        "new1 = data.fillna(0)\r\n",
        "new2 = data.fillna(data.mean())"
      ],
      "execution_count": 8,
      "outputs": [
        {
          "output_type": "stream",
          "text": [
            "<bound method NDFrame.head of             id  ... availability_365\n",
            "0        49091  ...              365\n",
            "1        50646  ...              365\n",
            "2        56334  ...              365\n",
            "3        71609  ...              353\n",
            "4        71896  ...              355\n",
            "...        ...  ...              ...\n",
            "7902  38105126  ...               61\n",
            "7903  38108273  ...              365\n",
            "7904  38109336  ...              173\n",
            "7905  38110493  ...               30\n",
            "7906  38112762  ...              365\n",
            "\n",
            "[7907 rows x 16 columns]>\n"
          ],
          "name": "stdout"
        }
      ]
    },
    {
      "cell_type": "markdown",
      "metadata": {
        "id": "-a-9mLG6lJHq"
      },
      "source": [
        "3."
      ]
    },
    {
      "cell_type": "markdown",
      "metadata": {
        "id": "EswC4OJZmlBG"
      },
      "source": [
        "Data 1 (0)"
      ]
    },
    {
      "cell_type": "code",
      "metadata": {
        "colab": {
          "base_uri": "https://localhost:8080/"
        },
        "id": "0-uVEs6DBwVY",
        "outputId": "4dc8ee27-8c4c-4368-b8c1-fcc5c0e67c65"
      },
      "source": [
        "print(\"Mean Discrete : \" + str(np.mean(new1[\"price\"])))\r\n",
        "print(\"Mean Continuous : \" + str(np.mean(new1[\"reviews_per_month\"])))\r\n",
        "print(\"Variance Discrete : \" + str(np.var(new1[\"price\"])))\r\n",
        "print(\"Variance Continuous : \" + str(np.var(new1[\"reviews_per_month\"])))"
      ],
      "execution_count": 13,
      "outputs": [
        {
          "output_type": "stream",
          "text": [
            "Mean Discrete : 169.33299607942328\n",
            "Mean Continuous : 0.6796319716706684\n",
            "Variance Discrete : 115712.96651338282\n",
            "Variance Continuous : 1.3238966522116369\n"
          ],
          "name": "stdout"
        }
      ]
    },
    {
      "cell_type": "markdown",
      "metadata": {
        "id": "Wg7ttxtnmgQ_"
      },
      "source": [
        "Data 2 (mean)"
      ]
    },
    {
      "cell_type": "code",
      "metadata": {
        "colab": {
          "base_uri": "https://localhost:8080/"
        },
        "id": "pSwWS0yeCQLo",
        "outputId": "c5b274e0-883c-4638-ed60-52986b71e8ca"
      },
      "source": [
        "print(\"Mean Discrete : \" + str(np.mean(new2[\"price\"])))\r\n",
        "print(\"Mean Continuous : \" + str(np.mean(new2[\"reviews_per_month\"])))\r\n",
        "print(\"Variance Discrete : \" + str(np.var(new2[\"price\"])))\r\n",
        "print(\"Variance Continuous : \" + str(np.var(new2[\"reviews_per_month\"])))"
      ],
      "execution_count": 14,
      "outputs": [
        {
          "output_type": "stream",
          "text": [
            "Mean Discrete : 169.33299607942328\n",
            "Mean Continuous : 1.0436686735289245\n",
            "Variance Discrete : 115712.96651338282\n",
            "Variance Continuous : 1.0764856707673065\n"
          ],
          "name": "stdout"
        }
      ]
    },
    {
      "cell_type": "markdown",
      "metadata": {
        "id": "nLu7Tic-m85k"
      },
      "source": [
        "4. The continous data of reviews_per_month that replaced with 0 has difference value on mean and variance data. But if we replace the continous data with longitude, it will be the same value and has no difference."
      ]
    }
  ]
}